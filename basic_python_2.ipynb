{
 "cells": [
  {
   "cell_type": "code",
   "execution_count": 1,
   "id": "initial_id",
   "metadata": {
    "collapsed": true,
    "ExecuteTime": {
     "end_time": "2024-02-25T17:34:14.991860Z",
     "start_time": "2024-02-25T17:34:14.697910Z"
    }
   },
   "outputs": [],
   "source": [
    "import pandas as pd"
   ]
  },
  {
   "cell_type": "code",
   "outputs": [
    {
     "name": "stdout",
     "output_type": "stream",
     "text": [
      "    id  earlength                                             dnaseq\n",
      "0  17A        5.1  CCGCATCTTGACTTAACTGACATATTACCATAGATGACTAGCCATG...\n",
      "1  24P        7.5  GCTATGACTTGCTTAGCTACGTATGAAGGAAGAAACTTTTGTGTAT...\n",
      "2  09Q       12.2  CCGCCGATTGATACAGGGGACGGTGACGTCGTCATAGATTCGGCAC...\n",
      "3  65Y        9.9  GCAGGAGAAGTTCTTAACCTTCTCGTAGGACGTCAACCTATTCTTT...\n",
      "4  19N       10.0  TCTTCATCCTTATCAAAGTTTGGAGTCAATGATCAGGATTATTGCC...\n",
      "5  92K       14.6  ACCGATGGACAATGATTCGGGTAGCACCAGGAGTCCGTAGCGCGTG...\n",
      "6  33W        8.2  CAGCTTGACTCGGTCTGTTAGGCCACGATTACGTGAGTTAGGGCTC...\n",
      "7  98C       17.8  CTGCATGCTAGGTTGACACGCCTGCACTGCTCGAAGAAAATATGCG...\n",
      "8  75G        9.4  CTTATTTAGATAACATGATTAGCCGAAGTTGTACGGGATATCCACC...\n",
      "9  88Q       11.3  GATTGCTCGCACATGAGCAAAACGGTAGAGCGTCACTTTCAGCCCT...\n"
     ]
    }
   ],
   "source": [
    "data = pd.read_csv('houseelf_earlength_dna_data.csv')\n",
    "print(data)"
   ],
   "metadata": {
    "collapsed": false,
    "ExecuteTime": {
     "end_time": "2024-02-25T17:38:26.910235Z",
     "start_time": "2024-02-25T17:38:26.888426Z"
    }
   },
   "id": "228822b224ae0631",
   "execution_count": 5
  },
  {
   "cell_type": "code",
   "outputs": [],
   "source": [
    "def ear_size(size):\n",
    "    if size > 10:\n",
    "        return 'Large'\n",
    "    else:\n",
    "        return 'Small'"
   ],
   "metadata": {
    "collapsed": false,
    "ExecuteTime": {
     "end_time": "2024-02-25T18:30:59.576331Z",
     "start_time": "2024-02-25T18:30:59.557804Z"
    }
   },
   "id": "c89d669c2c5bfc",
   "execution_count": 14
  },
  {
   "cell_type": "code",
   "outputs": [
    {
     "name": "stdout",
     "output_type": "stream",
     "text": [
      "41.0\n"
     ]
    }
   ],
   "source": [
    "def gc_content(dna):\n",
    "    g = dna.count('G')\n",
    "    c = dna.count('C')\n",
    "    a = dna.count('A')\n",
    "    t = dna.count('T')\n",
    "    return (c + g)/(a + t + g + c) * 100"
   ],
   "metadata": {
    "collapsed": false,
    "ExecuteTime": {
     "end_time": "2024-02-25T18:27:34.597181Z",
     "start_time": "2024-02-25T18:27:34.587135Z"
    }
   },
   "id": "9b5f24e7cc18caa4",
   "execution_count": 7
  },
  {
   "cell_type": "code",
   "outputs": [
    {
     "name": "stdout",
     "output_type": "stream",
     "text": [
      "[[['17A'], ['Small'], [41.0]], [['24P'], ['Small'], [39.0]], [['09Q'], ['Large'], [56.99999999999999]], [['65Y'], ['Small'], [40.0]], [['19N'], ['Small'], [36.0]], [['92K'], ['Large'], [62.0]], [['33W'], ['Small'], [52.0]], [['98C'], ['Large'], [63.0]], [['75G'], ['Small'], [47.0]], [['88Q'], ['Large'], [52.0]]]\n"
     ]
    }
   ],
   "source": [
    "table = []\n",
    "for i in range(len(data)):\n",
    "    table.append([[data['id'][i]],[ear_size(data['earlength'][i])],[gc_content(data['dnaseq'][i])]])\n",
    "print(table) "
   ],
   "metadata": {
    "collapsed": false,
    "ExecuteTime": {
     "end_time": "2024-02-25T19:03:26.624836Z",
     "start_time": "2024-02-25T19:03:26.617674Z"
    }
   },
   "id": "657f0f9a6729f594",
   "execution_count": 44
  },
  {
   "cell_type": "code",
   "outputs": [
    {
     "name": "stdout",
     "output_type": "stream",
     "text": [
      "48.9\n"
     ]
    }
   ],
   "source": [
    "total = 0\n",
    "for j in range(len(table)):\n",
    "    total += table[j][2][0]\n",
    "\n",
    "print(total/len(table))"
   ],
   "metadata": {
    "collapsed": false,
    "ExecuteTime": {
     "end_time": "2024-02-25T19:26:23.389806Z",
     "start_time": "2024-02-25T19:26:23.377456Z"
    }
   },
   "id": "71d4fbf8b0825f19",
   "execution_count": 54
  },
  {
   "cell_type": "code",
   "outputs": [],
   "source": [
    "import csv\n",
    "\n",
    "with open('grangers_analysis.csv', 'w', newline='') as file:\n",
    "    writer = csv.writer(file, delimiter=',')\n",
    "    writer.writerows(table)"
   ],
   "metadata": {
    "collapsed": false,
    "ExecuteTime": {
     "end_time": "2024-02-25T19:32:20.213208Z",
     "start_time": "2024-02-25T19:32:20.198204Z"
    }
   },
   "id": "2eeadb38f0b2cc15",
   "execution_count": 56
  }
 ],
 "metadata": {
  "kernelspec": {
   "display_name": "Python 3",
   "language": "python",
   "name": "python3"
  },
  "language_info": {
   "codemirror_mode": {
    "name": "ipython",
    "version": 2
   },
   "file_extension": ".py",
   "mimetype": "text/x-python",
   "name": "python",
   "nbconvert_exporter": "python",
   "pygments_lexer": "ipython2",
   "version": "2.7.6"
  }
 },
 "nbformat": 4,
 "nbformat_minor": 5
}
